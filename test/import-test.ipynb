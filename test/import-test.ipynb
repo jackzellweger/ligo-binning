{
 "cells": [
  {
   "cell_type": "code",
   "execution_count": 4,
   "id": "ec352b63",
   "metadata": {},
   "outputs": [],
   "source": [
    "#import igraph\n",
    "import os\n",
    "import optparse\n",
    "import sys\n",
    "import time\n",
    "import numpy as np"
   ]
  },
  {
   "cell_type": "code",
   "execution_count": 8,
   "id": "9819315b",
   "metadata": {},
   "outputs": [],
   "source": [
    "edge_array = np.loadtxt(\"./edge_list_70.ncol\")"
   ]
  },
  {
   "cell_type": "code",
   "execution_count": 9,
   "id": "dcf6b400",
   "metadata": {},
   "outputs": [
    {
     "data": {
      "text/plain": [
       "array([[ 0.,  1.],\n",
       "       [ 0.,  2.],\n",
       "       [ 0.,  3.],\n",
       "       ...,\n",
       "       [67., 68.],\n",
       "       [67., 69.],\n",
       "       [68., 69.]])"
      ]
     },
     "execution_count": 9,
     "metadata": {},
     "output_type": "execute_result"
    }
   ],
   "source": [
    "edge_array"
   ]
  },
  {
   "cell_type": "code",
   "execution_count": null,
   "id": "1b157952",
   "metadata": {},
   "outputs": [],
   "source": []
  },
  {
   "cell_type": "code",
   "execution_count": null,
   "id": "8e72d3b6",
   "metadata": {},
   "outputs": [],
   "source": []
  },
  {
   "cell_type": "code",
   "execution_count": null,
   "id": "b36f8045",
   "metadata": {},
   "outputs": [],
   "source": []
  },
  {
   "cell_type": "code",
   "execution_count": null,
   "id": "39612a8b",
   "metadata": {},
   "outputs": [],
   "source": []
  },
  {
   "cell_type": "code",
   "execution_count": null,
   "id": "4af635c6",
   "metadata": {},
   "outputs": [],
   "source": []
  }
 ],
 "metadata": {
  "kernelspec": {
   "display_name": "Python 3 (ipykernel)",
   "language": "python",
   "name": "python3"
  },
  "language_info": {
   "codemirror_mode": {
    "name": "ipython",
    "version": 3
   },
   "file_extension": ".py",
   "mimetype": "text/x-python",
   "name": "python",
   "nbconvert_exporter": "python",
   "pygments_lexer": "ipython3",
   "version": "3.9.16"
  }
 },
 "nbformat": 4,
 "nbformat_minor": 5
}
